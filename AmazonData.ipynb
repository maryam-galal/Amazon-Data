{
  "nbformat": 4,
  "nbformat_minor": 0,
  "metadata": {
    "colab": {
      "provenance": [],
      "collapsed_sections": [
        "3-tu0PpAT4gR",
        "v8RAUvcRCieU"
      ]
    },
    "kernelspec": {
      "name": "python3",
      "display_name": "Python 3"
    },
    "language_info": {
      "name": "python"
    }
  },
  "cells": [
    {
      "cell_type": "markdown",
      "source": [
        "#Data Overview"
      ],
      "metadata": {
        "id": "3-tu0PpAT4gR"
      }
    },
    {
      "cell_type": "code",
      "execution_count": 186,
      "metadata": {
        "colab": {
          "base_uri": "https://localhost:8080/",
          "height": 484
        },
        "id": "UaL13WNBzMbg",
        "outputId": "3dc8b52b-18d1-4702-f4b9-52be909166fb"
      },
      "outputs": [
        {
          "output_type": "execute_result",
          "data": {
            "text/plain": [
              "   Unnamed: 0                                               name  \\\n",
              "0           0  Lloyd 1.5 Ton 3 Star Inverter Split Ac (5 In 1...   \n",
              "1           1  LG 1.5 Ton 5 Star AI DUAL Inverter Split AC (C...   \n",
              "2           2  LG 1 Ton 4 Star Ai Dual Inverter Split Ac (Cop...   \n",
              "3           3  LG 1.5 Ton 3 Star AI DUAL Inverter Split AC (C...   \n",
              "4           4  Carrier 1.5 Ton 3 Star Inverter Split AC (Copp...   \n",
              "\n",
              "  main_category      sub_category  \\\n",
              "0    appliances  Air Conditioners   \n",
              "1    appliances  Air Conditioners   \n",
              "2    appliances  Air Conditioners   \n",
              "3    appliances  Air Conditioners   \n",
              "4    appliances  Air Conditioners   \n",
              "\n",
              "                                               image  \\\n",
              "0  https://m.media-amazon.com/images/I/31UISB90sY...   \n",
              "1  https://m.media-amazon.com/images/I/51JFb7FctD...   \n",
              "2  https://m.media-amazon.com/images/I/51JFb7FctD...   \n",
              "3  https://m.media-amazon.com/images/I/51JFb7FctD...   \n",
              "4  https://m.media-amazon.com/images/I/41lrtqXPiW...   \n",
              "\n",
              "                                                link ratings no_of_ratings  \\\n",
              "0  https://www.amazon.in/Lloyd-Inverter-Convertib...     4.2         2,255   \n",
              "1  https://www.amazon.in/LG-Convertible-Anti-Viru...     4.2         2,948   \n",
              "2  https://www.amazon.in/LG-Inverter-Convertible-...     4.2         1,206   \n",
              "3  https://www.amazon.in/LG-Convertible-Anti-Viru...     4.0            69   \n",
              "4  https://www.amazon.in/Carrier-Inverter-Split-C...     4.1           630   \n",
              "\n",
              "  discount_price actual_price  \n",
              "0        ₹32,999      ₹58,990  \n",
              "1        ₹46,490      ₹75,990  \n",
              "2        ₹34,490      ₹61,990  \n",
              "3        ₹37,990      ₹68,990  \n",
              "4        ₹34,490      ₹67,790  "
            ],
            "text/html": [
              "\n",
              "  <div id=\"df-85c503fe-7422-4670-8f1e-d5fb5dbbdb37\" class=\"colab-df-container\">\n",
              "    <div>\n",
              "<style scoped>\n",
              "    .dataframe tbody tr th:only-of-type {\n",
              "        vertical-align: middle;\n",
              "    }\n",
              "\n",
              "    .dataframe tbody tr th {\n",
              "        vertical-align: top;\n",
              "    }\n",
              "\n",
              "    .dataframe thead th {\n",
              "        text-align: right;\n",
              "    }\n",
              "</style>\n",
              "<table border=\"1\" class=\"dataframe\">\n",
              "  <thead>\n",
              "    <tr style=\"text-align: right;\">\n",
              "      <th></th>\n",
              "      <th>Unnamed: 0</th>\n",
              "      <th>name</th>\n",
              "      <th>main_category</th>\n",
              "      <th>sub_category</th>\n",
              "      <th>image</th>\n",
              "      <th>link</th>\n",
              "      <th>ratings</th>\n",
              "      <th>no_of_ratings</th>\n",
              "      <th>discount_price</th>\n",
              "      <th>actual_price</th>\n",
              "    </tr>\n",
              "  </thead>\n",
              "  <tbody>\n",
              "    <tr>\n",
              "      <th>0</th>\n",
              "      <td>0</td>\n",
              "      <td>Lloyd 1.5 Ton 3 Star Inverter Split Ac (5 In 1...</td>\n",
              "      <td>appliances</td>\n",
              "      <td>Air Conditioners</td>\n",
              "      <td>https://m.media-amazon.com/images/I/31UISB90sY...</td>\n",
              "      <td>https://www.amazon.in/Lloyd-Inverter-Convertib...</td>\n",
              "      <td>4.2</td>\n",
              "      <td>2,255</td>\n",
              "      <td>₹32,999</td>\n",
              "      <td>₹58,990</td>\n",
              "    </tr>\n",
              "    <tr>\n",
              "      <th>1</th>\n",
              "      <td>1</td>\n",
              "      <td>LG 1.5 Ton 5 Star AI DUAL Inverter Split AC (C...</td>\n",
              "      <td>appliances</td>\n",
              "      <td>Air Conditioners</td>\n",
              "      <td>https://m.media-amazon.com/images/I/51JFb7FctD...</td>\n",
              "      <td>https://www.amazon.in/LG-Convertible-Anti-Viru...</td>\n",
              "      <td>4.2</td>\n",
              "      <td>2,948</td>\n",
              "      <td>₹46,490</td>\n",
              "      <td>₹75,990</td>\n",
              "    </tr>\n",
              "    <tr>\n",
              "      <th>2</th>\n",
              "      <td>2</td>\n",
              "      <td>LG 1 Ton 4 Star Ai Dual Inverter Split Ac (Cop...</td>\n",
              "      <td>appliances</td>\n",
              "      <td>Air Conditioners</td>\n",
              "      <td>https://m.media-amazon.com/images/I/51JFb7FctD...</td>\n",
              "      <td>https://www.amazon.in/LG-Inverter-Convertible-...</td>\n",
              "      <td>4.2</td>\n",
              "      <td>1,206</td>\n",
              "      <td>₹34,490</td>\n",
              "      <td>₹61,990</td>\n",
              "    </tr>\n",
              "    <tr>\n",
              "      <th>3</th>\n",
              "      <td>3</td>\n",
              "      <td>LG 1.5 Ton 3 Star AI DUAL Inverter Split AC (C...</td>\n",
              "      <td>appliances</td>\n",
              "      <td>Air Conditioners</td>\n",
              "      <td>https://m.media-amazon.com/images/I/51JFb7FctD...</td>\n",
              "      <td>https://www.amazon.in/LG-Convertible-Anti-Viru...</td>\n",
              "      <td>4.0</td>\n",
              "      <td>69</td>\n",
              "      <td>₹37,990</td>\n",
              "      <td>₹68,990</td>\n",
              "    </tr>\n",
              "    <tr>\n",
              "      <th>4</th>\n",
              "      <td>4</td>\n",
              "      <td>Carrier 1.5 Ton 3 Star Inverter Split AC (Copp...</td>\n",
              "      <td>appliances</td>\n",
              "      <td>Air Conditioners</td>\n",
              "      <td>https://m.media-amazon.com/images/I/41lrtqXPiW...</td>\n",
              "      <td>https://www.amazon.in/Carrier-Inverter-Split-C...</td>\n",
              "      <td>4.1</td>\n",
              "      <td>630</td>\n",
              "      <td>₹34,490</td>\n",
              "      <td>₹67,790</td>\n",
              "    </tr>\n",
              "  </tbody>\n",
              "</table>\n",
              "</div>\n",
              "    <div class=\"colab-df-buttons\">\n",
              "\n",
              "  <div class=\"colab-df-container\">\n",
              "    <button class=\"colab-df-convert\" onclick=\"convertToInteractive('df-85c503fe-7422-4670-8f1e-d5fb5dbbdb37')\"\n",
              "            title=\"Convert this dataframe to an interactive table.\"\n",
              "            style=\"display:none;\">\n",
              "\n",
              "  <svg xmlns=\"http://www.w3.org/2000/svg\" height=\"24px\" viewBox=\"0 -960 960 960\">\n",
              "    <path d=\"M120-120v-720h720v720H120Zm60-500h600v-160H180v160Zm220 220h160v-160H400v160Zm0 220h160v-160H400v160ZM180-400h160v-160H180v160Zm440 0h160v-160H620v160ZM180-180h160v-160H180v160Zm440 0h160v-160H620v160Z\"/>\n",
              "  </svg>\n",
              "    </button>\n",
              "\n",
              "  <style>\n",
              "    .colab-df-container {\n",
              "      display:flex;\n",
              "      gap: 12px;\n",
              "    }\n",
              "\n",
              "    .colab-df-convert {\n",
              "      background-color: #E8F0FE;\n",
              "      border: none;\n",
              "      border-radius: 50%;\n",
              "      cursor: pointer;\n",
              "      display: none;\n",
              "      fill: #1967D2;\n",
              "      height: 32px;\n",
              "      padding: 0 0 0 0;\n",
              "      width: 32px;\n",
              "    }\n",
              "\n",
              "    .colab-df-convert:hover {\n",
              "      background-color: #E2EBFA;\n",
              "      box-shadow: 0px 1px 2px rgba(60, 64, 67, 0.3), 0px 1px 3px 1px rgba(60, 64, 67, 0.15);\n",
              "      fill: #174EA6;\n",
              "    }\n",
              "\n",
              "    .colab-df-buttons div {\n",
              "      margin-bottom: 4px;\n",
              "    }\n",
              "\n",
              "    [theme=dark] .colab-df-convert {\n",
              "      background-color: #3B4455;\n",
              "      fill: #D2E3FC;\n",
              "    }\n",
              "\n",
              "    [theme=dark] .colab-df-convert:hover {\n",
              "      background-color: #434B5C;\n",
              "      box-shadow: 0px 1px 3px 1px rgba(0, 0, 0, 0.15);\n",
              "      filter: drop-shadow(0px 1px 2px rgba(0, 0, 0, 0.3));\n",
              "      fill: #FFFFFF;\n",
              "    }\n",
              "  </style>\n",
              "\n",
              "    <script>\n",
              "      const buttonEl =\n",
              "        document.querySelector('#df-85c503fe-7422-4670-8f1e-d5fb5dbbdb37 button.colab-df-convert');\n",
              "      buttonEl.style.display =\n",
              "        google.colab.kernel.accessAllowed ? 'block' : 'none';\n",
              "\n",
              "      async function convertToInteractive(key) {\n",
              "        const element = document.querySelector('#df-85c503fe-7422-4670-8f1e-d5fb5dbbdb37');\n",
              "        const dataTable =\n",
              "          await google.colab.kernel.invokeFunction('convertToInteractive',\n",
              "                                                    [key], {});\n",
              "        if (!dataTable) return;\n",
              "\n",
              "        const docLinkHtml = 'Like what you see? Visit the ' +\n",
              "          '<a target=\"_blank\" href=https://colab.research.google.com/notebooks/data_table.ipynb>data table notebook</a>'\n",
              "          + ' to learn more about interactive tables.';\n",
              "        element.innerHTML = '';\n",
              "        dataTable['output_type'] = 'display_data';\n",
              "        await google.colab.output.renderOutput(dataTable, element);\n",
              "        const docLink = document.createElement('div');\n",
              "        docLink.innerHTML = docLinkHtml;\n",
              "        element.appendChild(docLink);\n",
              "      }\n",
              "    </script>\n",
              "  </div>\n",
              "\n",
              "\n",
              "<div id=\"df-ce18220c-0d10-4c3b-bf94-34dd9ea32ff8\">\n",
              "  <button class=\"colab-df-quickchart\" onclick=\"quickchart('df-ce18220c-0d10-4c3b-bf94-34dd9ea32ff8')\"\n",
              "            title=\"Suggest charts\"\n",
              "            style=\"display:none;\">\n",
              "\n",
              "<svg xmlns=\"http://www.w3.org/2000/svg\" height=\"24px\"viewBox=\"0 0 24 24\"\n",
              "     width=\"24px\">\n",
              "    <g>\n",
              "        <path d=\"M19 3H5c-1.1 0-2 .9-2 2v14c0 1.1.9 2 2 2h14c1.1 0 2-.9 2-2V5c0-1.1-.9-2-2-2zM9 17H7v-7h2v7zm4 0h-2V7h2v10zm4 0h-2v-4h2v4z\"/>\n",
              "    </g>\n",
              "</svg>\n",
              "  </button>\n",
              "\n",
              "<style>\n",
              "  .colab-df-quickchart {\n",
              "      --bg-color: #E8F0FE;\n",
              "      --fill-color: #1967D2;\n",
              "      --hover-bg-color: #E2EBFA;\n",
              "      --hover-fill-color: #174EA6;\n",
              "      --disabled-fill-color: #AAA;\n",
              "      --disabled-bg-color: #DDD;\n",
              "  }\n",
              "\n",
              "  [theme=dark] .colab-df-quickchart {\n",
              "      --bg-color: #3B4455;\n",
              "      --fill-color: #D2E3FC;\n",
              "      --hover-bg-color: #434B5C;\n",
              "      --hover-fill-color: #FFFFFF;\n",
              "      --disabled-bg-color: #3B4455;\n",
              "      --disabled-fill-color: #666;\n",
              "  }\n",
              "\n",
              "  .colab-df-quickchart {\n",
              "    background-color: var(--bg-color);\n",
              "    border: none;\n",
              "    border-radius: 50%;\n",
              "    cursor: pointer;\n",
              "    display: none;\n",
              "    fill: var(--fill-color);\n",
              "    height: 32px;\n",
              "    padding: 0;\n",
              "    width: 32px;\n",
              "  }\n",
              "\n",
              "  .colab-df-quickchart:hover {\n",
              "    background-color: var(--hover-bg-color);\n",
              "    box-shadow: 0 1px 2px rgba(60, 64, 67, 0.3), 0 1px 3px 1px rgba(60, 64, 67, 0.15);\n",
              "    fill: var(--button-hover-fill-color);\n",
              "  }\n",
              "\n",
              "  .colab-df-quickchart-complete:disabled,\n",
              "  .colab-df-quickchart-complete:disabled:hover {\n",
              "    background-color: var(--disabled-bg-color);\n",
              "    fill: var(--disabled-fill-color);\n",
              "    box-shadow: none;\n",
              "  }\n",
              "\n",
              "  .colab-df-spinner {\n",
              "    border: 2px solid var(--fill-color);\n",
              "    border-color: transparent;\n",
              "    border-bottom-color: var(--fill-color);\n",
              "    animation:\n",
              "      spin 1s steps(1) infinite;\n",
              "  }\n",
              "\n",
              "  @keyframes spin {\n",
              "    0% {\n",
              "      border-color: transparent;\n",
              "      border-bottom-color: var(--fill-color);\n",
              "      border-left-color: var(--fill-color);\n",
              "    }\n",
              "    20% {\n",
              "      border-color: transparent;\n",
              "      border-left-color: var(--fill-color);\n",
              "      border-top-color: var(--fill-color);\n",
              "    }\n",
              "    30% {\n",
              "      border-color: transparent;\n",
              "      border-left-color: var(--fill-color);\n",
              "      border-top-color: var(--fill-color);\n",
              "      border-right-color: var(--fill-color);\n",
              "    }\n",
              "    40% {\n",
              "      border-color: transparent;\n",
              "      border-right-color: var(--fill-color);\n",
              "      border-top-color: var(--fill-color);\n",
              "    }\n",
              "    60% {\n",
              "      border-color: transparent;\n",
              "      border-right-color: var(--fill-color);\n",
              "    }\n",
              "    80% {\n",
              "      border-color: transparent;\n",
              "      border-right-color: var(--fill-color);\n",
              "      border-bottom-color: var(--fill-color);\n",
              "    }\n",
              "    90% {\n",
              "      border-color: transparent;\n",
              "      border-bottom-color: var(--fill-color);\n",
              "    }\n",
              "  }\n",
              "</style>\n",
              "\n",
              "  <script>\n",
              "    async function quickchart(key) {\n",
              "      const quickchartButtonEl =\n",
              "        document.querySelector('#' + key + ' button');\n",
              "      quickchartButtonEl.disabled = true;  // To prevent multiple clicks.\n",
              "      quickchartButtonEl.classList.add('colab-df-spinner');\n",
              "      try {\n",
              "        const charts = await google.colab.kernel.invokeFunction(\n",
              "            'suggestCharts', [key], {});\n",
              "      } catch (error) {\n",
              "        console.error('Error during call to suggestCharts:', error);\n",
              "      }\n",
              "      quickchartButtonEl.classList.remove('colab-df-spinner');\n",
              "      quickchartButtonEl.classList.add('colab-df-quickchart-complete');\n",
              "    }\n",
              "    (() => {\n",
              "      let quickchartButtonEl =\n",
              "        document.querySelector('#df-ce18220c-0d10-4c3b-bf94-34dd9ea32ff8 button');\n",
              "      quickchartButtonEl.style.display =\n",
              "        google.colab.kernel.accessAllowed ? 'block' : 'none';\n",
              "    })();\n",
              "  </script>\n",
              "</div>\n",
              "\n",
              "    </div>\n",
              "  </div>\n"
            ],
            "application/vnd.google.colaboratory.intrinsic+json": {
              "type": "dataframe",
              "variable_name": "df",
              "summary": "{\n  \"name\": \"df\",\n  \"rows\": 49225,\n  \"fields\": [\n    {\n      \"column\": \"Unnamed: 0\",\n      \"properties\": {\n        \"dtype\": \"number\",\n        \"std\": 3412,\n        \"min\": 0,\n        \"max\": 12552,\n        \"num_unique_values\": 12553,\n        \"samples\": [\n          9128,\n          7690,\n          11187\n        ],\n        \"semantic_type\": \"\",\n        \"description\": \"\"\n      }\n    },\n    {\n      \"column\": \"name\",\n      \"properties\": {\n        \"dtype\": \"string\",\n        \"num_unique_values\": 43907,\n        \"samples\": [\n          \"SGA Enterprises Cotton Tote Shopping Bags with Extra Strong 12 inch Handle|Hold 15kgs|Heavy Duty, Washable, Eco Friendly C...\",\n          \"Nino Bambino 100% Organic Cotton Off White Casset Printed Sleeveless Round Neck Snap closure Bodysuit / Half Romper / Ones...\",\n          \"AGARO Royal Cool Mist Top Fill Ultrasonic Humidifier, For Bedroom, Home, Office, MultiFunction Touch Panel With LED Diplay...\"\n        ],\n        \"semantic_type\": \"\",\n        \"description\": \"\"\n      }\n    },\n    {\n      \"column\": \"main_category\",\n      \"properties\": {\n        \"dtype\": \"category\",\n        \"num_unique_values\": 12,\n        \"samples\": [\n          \"bags & luggage\",\n          \"kids' fashion\",\n          \"appliances\"\n        ],\n        \"semantic_type\": \"\",\n        \"description\": \"\"\n      }\n    },\n    {\n      \"column\": \"sub_category\",\n      \"properties\": {\n        \"dtype\": \"category\",\n        \"num_unique_values\": 16,\n        \"samples\": [\n          \"Air Conditioners\",\n          \"All Appliances\",\n          \"All Grocery & Gourmet Foods\"\n        ],\n        \"semantic_type\": \"\",\n        \"description\": \"\"\n      }\n    },\n    {\n      \"column\": \"image\",\n      \"properties\": {\n        \"dtype\": \"string\",\n        \"num_unique_values\": 46223,\n        \"samples\": [\n          \"https://m.media-amazon.com/images/I/81EtMlSuLHS._AC_UL320_.jpg\",\n          \"https://m.media-amazon.com/images/I/81ZLiBzqJFL._AC_UL320_.jpg\",\n          \"https://m.media-amazon.com/images/I/61FWJv8FRzL._AC_UL320_.jpg\"\n        ],\n        \"semantic_type\": \"\",\n        \"description\": \"\"\n      }\n    },\n    {\n      \"column\": \"link\",\n      \"properties\": {\n        \"dtype\": \"string\",\n        \"num_unique_values\": 49225,\n        \"samples\": [\n          \"https://www.amazon.in/Skybags-Riddle-Black-Casual-Backpack/dp/B08Z1N3XKF/ref=sr_1_3016?qid=1679143987&s=luggage&sr=1-3016\",\n          \"https://www.amazon.in/CITTA-Collection-Shampoo150ml-Natural-Ingredients/dp/B096B3NBPP/ref=sr_1_8568?qid=1679220097&s=baby&sr=1-8568\",\n          \"https://www.amazon.in/PLATEFORCE-Smart-Watch-Men-Touchscreen/dp/B0BN7NH2Z7/ref=sr_1_789?qid=1679133697&s=electronics&sr=1-789\"\n        ],\n        \"semantic_type\": \"\",\n        \"description\": \"\"\n      }\n    },\n    {\n      \"column\": \"ratings\",\n      \"properties\": {\n        \"dtype\": \"category\",\n        \"num_unique_values\": 42,\n        \"samples\": [\n          \"2.8\",\n          \"4.4\",\n          \"3.3\"\n        ],\n        \"semantic_type\": \"\",\n        \"description\": \"\"\n      }\n    },\n    {\n      \"column\": \"no_of_ratings\",\n      \"properties\": {\n        \"dtype\": \"category\",\n        \"num_unique_values\": 5829,\n        \"samples\": [\n          \"3,170\",\n          \"12,324\",\n          \"67\"\n        ],\n        \"semantic_type\": \"\",\n        \"description\": \"\"\n      }\n    },\n    {\n      \"column\": \"discount_price\",\n      \"properties\": {\n        \"dtype\": \"category\",\n        \"num_unique_values\": 5245,\n        \"samples\": [\n          \"\\u20b93,789\",\n          \"\\u20b928\",\n          \"\\u20b92,950\"\n        ],\n        \"semantic_type\": \"\",\n        \"description\": \"\"\n      }\n    },\n    {\n      \"column\": \"actual_price\",\n      \"properties\": {\n        \"dtype\": \"category\",\n        \"num_unique_values\": 3978,\n        \"samples\": [\n          \"\\u20b93,945\",\n          \"\\u20b97,818\",\n          \"\\u20b921,199\"\n        ],\n        \"semantic_type\": \"\",\n        \"description\": \"\"\n      }\n    }\n  ]\n}"
            }
          },
          "metadata": {},
          "execution_count": 186
        }
      ],
      "source": [
        "import pandas as pd\n",
        "import numpy as np\n",
        "\n",
        "#reading data from file\n",
        "df = pd.read_csv(\"/content/Amazon-Products.csv\")\n",
        "df.head()"
      ]
    },
    {
      "cell_type": "code",
      "source": [
        "df.shape"
      ],
      "metadata": {
        "colab": {
          "base_uri": "https://localhost:8080/"
        },
        "id": "zkLpvvRJOLp_",
        "outputId": "36699deb-d50e-4512-9953-a9550b5e9b0e"
      },
      "execution_count": 187,
      "outputs": [
        {
          "output_type": "execute_result",
          "data": {
            "text/plain": [
              "(49225, 10)"
            ]
          },
          "metadata": {},
          "execution_count": 187
        }
      ]
    },
    {
      "cell_type": "code",
      "source": [
        "df.info()"
      ],
      "metadata": {
        "colab": {
          "base_uri": "https://localhost:8080/"
        },
        "id": "uwOdVK9BHBbc",
        "outputId": "2906b5c1-8f5b-4bb4-8d13-a94e67d27682"
      },
      "execution_count": 188,
      "outputs": [
        {
          "output_type": "stream",
          "name": "stdout",
          "text": [
            "<class 'pandas.core.frame.DataFrame'>\n",
            "RangeIndex: 49225 entries, 0 to 49224\n",
            "Data columns (total 10 columns):\n",
            " #   Column          Non-Null Count  Dtype \n",
            "---  ------          --------------  ----- \n",
            " 0   Unnamed: 0      49225 non-null  int64 \n",
            " 1   name            49225 non-null  object\n",
            " 2   main_category   49225 non-null  object\n",
            " 3   sub_category    49225 non-null  object\n",
            " 4   image           49225 non-null  object\n",
            " 5   link            49225 non-null  object\n",
            " 6   ratings         43408 non-null  object\n",
            " 7   no_of_ratings   43408 non-null  object\n",
            " 8   discount_price  45993 non-null  object\n",
            " 9   actual_price    48517 non-null  object\n",
            "dtypes: int64(1), object(9)\n",
            "memory usage: 3.8+ MB\n"
          ]
        }
      ]
    },
    {
      "cell_type": "code",
      "source": [
        "df.isnull().sum()"
      ],
      "metadata": {
        "colab": {
          "base_uri": "https://localhost:8080/"
        },
        "id": "i6oKN_Kx-ylI",
        "outputId": "3075b2f9-7b44-4e30-e9cb-bc20efd5b56d"
      },
      "execution_count": 189,
      "outputs": [
        {
          "output_type": "execute_result",
          "data": {
            "text/plain": [
              "Unnamed: 0           0\n",
              "name                 0\n",
              "main_category        0\n",
              "sub_category         0\n",
              "image                0\n",
              "link                 0\n",
              "ratings           5817\n",
              "no_of_ratings     5817\n",
              "discount_price    3232\n",
              "actual_price       708\n",
              "dtype: int64"
            ]
          },
          "metadata": {},
          "execution_count": 189
        }
      ]
    },
    {
      "cell_type": "code",
      "source": [
        "df.duplicated().sum()"
      ],
      "metadata": {
        "colab": {
          "base_uri": "https://localhost:8080/"
        },
        "id": "GUCQvSHIUMb3",
        "outputId": "b7efac1b-7c52-49fe-d605-78e3398cefe9"
      },
      "execution_count": 190,
      "outputs": [
        {
          "output_type": "execute_result",
          "data": {
            "text/plain": [
              "0"
            ]
          },
          "metadata": {},
          "execution_count": 190
        }
      ]
    },
    {
      "cell_type": "markdown",
      "source": [
        "#preprocessing\n"
      ],
      "metadata": {
        "id": "v8RAUvcRCieU"
      }
    },
    {
      "cell_type": "code",
      "source": [
        "# Drop the \"link\" and \"image\" column\n",
        "df.drop(columns=['link','image','Unnamed: 0'], inplace=True)"
      ],
      "metadata": {
        "id": "SVCTcZJPCeo9"
      },
      "execution_count": 191,
      "outputs": []
    },
    {
      "cell_type": "code",
      "source": [
        "print(\"Ratings before cleaning:\")\n",
        "df['ratings'].unique()\n",
        "print(\"______________________________________________________________________________\")\n",
        "# Extract the digits and change the type to float\n",
        "df['ratings'] = df['ratings'].replace(['Get','FREE'], '0.0')\n",
        "df['ratings'] = df[\"ratings\"].astype(float)\n",
        "print(\"Ratings after cleaning:\")\n",
        "df['ratings'].unique()"
      ],
      "metadata": {
        "colab": {
          "base_uri": "https://localhost:8080/"
        },
        "id": "SMZvlKerBH3H",
        "outputId": "d956bf88-5e05-4e1c-8746-ab48bcbf9492"
      },
      "execution_count": 192,
      "outputs": [
        {
          "output_type": "stream",
          "name": "stdout",
          "text": [
            "Ratings before cleaning:\n",
            "______________________________________________________________________________\n",
            "Ratings after cleaning:\n"
          ]
        },
        {
          "output_type": "execute_result",
          "data": {
            "text/plain": [
              "array([4.2, 4. , 4.1, 4.3, 3.9, 3.8, 3.5, nan, 4.6, 3.3, 3.4, 3.7, 2.9,\n",
              "       5. , 4.4, 3.6, 2.7, 4.5, 3. , 3.1, 3.2, 4.8, 4.7, 2.5, 1. , 2.6,\n",
              "       2.8, 2.3, 1.7, 0. , 1.8, 2.4, 4.9, 2.2, 1.6, 1.9, 2. , 1.4, 2.1,\n",
              "       1.2, 1.3, 1.5])"
            ]
          },
          "metadata": {},
          "execution_count": 192
        }
      ]
    },
    {
      "cell_type": "code",
      "source": [
        "# Extract the digits and change the type to float\n",
        "df['no_of_ratings'] = df['no_of_ratings'].replace(['Only 1 left in stock.','Only 2 left in stock.','FREE Delivery by Amazon','Usually dispatched in 2 to 3 days.','Usually dispatched in 5 to 6 days.','Usually dispatched in 4 to 5 days.','Usually dispatched in 6 to 7 days.','Usually dispatched in 7 to 8 days.','Only 3 left in stock.'], '0.0')\n",
        "df['no_of_ratings'] = df['no_of_ratings'].str.replace(',', '')\n",
        "df['no_of_ratings'] = df[\"no_of_ratings\"].astype(float)\n",
        "df['no_of_ratings'].unique()"
      ],
      "metadata": {
        "colab": {
          "base_uri": "https://localhost:8080/"
        },
        "id": "lSgPr7SgHui4",
        "outputId": "77cdb61d-82a9-44ec-c9ac-9ef6017f8f75"
      },
      "execution_count": 193,
      "outputs": [
        {
          "output_type": "execute_result",
          "data": {
            "text/plain": [
              "array([2255., 2948., 1206., ..., 6902., 3053., 5479.])"
            ]
          },
          "metadata": {},
          "execution_count": 193
        }
      ]
    },
    {
      "cell_type": "code",
      "source": [
        "#filling null with zero\n",
        "df['ratings'].fillna(0, inplace=True)\n",
        "df['no_of_ratings'].fillna(0, inplace=True)"
      ],
      "metadata": {
        "id": "UmVlinIiCn3t"
      },
      "execution_count": 194,
      "outputs": []
    },
    {
      "cell_type": "code",
      "source": [
        "# Removing the ₹ sign\n",
        "df['discount_price'] = df['discount_price'].str.split(\" \", expand = True).get(0).str.split(\"₹\", expand = True).get(1)\n",
        "df['actual_price'] = df['actual_price'].str.split(\" \", expand = True).get(0).str.split(\"₹\", expand = True).get(1)\n",
        "# Change commas to dots and change the type to float\n",
        "df['discount_price'] = df['discount_price'].str.replace(',', '').astype(float)\n",
        "df['actual_price'] = df['actual_price'].str.replace(',', '').astype(float)"
      ],
      "metadata": {
        "id": "lis-pL4E_YP6"
      },
      "execution_count": 195,
      "outputs": []
    },
    {
      "cell_type": "code",
      "source": [
        "print(df.describe())"
      ],
      "metadata": {
        "colab": {
          "base_uri": "https://localhost:8080/"
        },
        "id": "pvTkioORDnFF",
        "outputId": "e879a6cc-52e3-4fa1-e247-b190cb1716c3"
      },
      "execution_count": 196,
      "outputs": [
        {
          "output_type": "stream",
          "name": "stdout",
          "text": [
            "            ratings  no_of_ratings  discount_price   actual_price\n",
            "count  49225.000000   49225.000000    45993.000000   48517.000000\n",
            "mean       3.501926    2454.558801     2339.680321    3983.147468\n",
            "std        1.408195   13629.954558     6937.413355    9954.469589\n",
            "min        0.000000       0.000000        9.000000       4.000000\n",
            "25%        3.600000       8.000000      299.000000     699.000000\n",
            "50%        4.000000      92.000000      575.000000    1299.000000\n",
            "75%        4.300000     701.000000     1399.000000    2895.000000\n",
            "max        5.000000  437651.000000   134999.000000  194499.000000\n"
          ]
        }
      ]
    },
    {
      "cell_type": "code",
      "source": [
        "# For \"ratings\" and \"no_of_ratings\", replace null values with 0\n",
        "df['ratings'].fillna(0, inplace=True)\n",
        "df['no_of_ratings'].fillna(0, inplace=True)"
      ],
      "metadata": {
        "id": "-c4ecioaFg_W"
      },
      "execution_count": 197,
      "outputs": []
    },
    {
      "cell_type": "code",
      "source": [
        "#drop nulls in \"actual_price\" and \"discount_price\"\n",
        "df.dropna(inplace=True)"
      ],
      "metadata": {
        "id": "I_PcLXahJfEQ"
      },
      "execution_count": 198,
      "outputs": []
    },
    {
      "cell_type": "code",
      "source": [
        "#check nulls\n",
        "df.isnull().sum()"
      ],
      "metadata": {
        "colab": {
          "base_uri": "https://localhost:8080/"
        },
        "id": "4uWzOIZiJM5Z",
        "outputId": "cc5baf36-dea0-4f57-bea0-83392b6b2231"
      },
      "execution_count": 199,
      "outputs": [
        {
          "output_type": "execute_result",
          "data": {
            "text/plain": [
              "name              0\n",
              "main_category     0\n",
              "sub_category      0\n",
              "ratings           0\n",
              "no_of_ratings     0\n",
              "discount_price    0\n",
              "actual_price      0\n",
              "dtype: int64"
            ]
          },
          "metadata": {},
          "execution_count": 199
        }
      ]
    },
    {
      "cell_type": "code",
      "source": [
        "#check for outliers in 'actual_price', 'discount_price', 'no_of_ratings', 'ratings'\n",
        "columns = ['actual_price', 'discount_price', 'no_of_ratings', 'ratings']\n",
        "for col in columns:\n",
        "    # calculate interquartile range\n",
        "    q25, q75 = np.percentile(df[col], 25), np.percentile(df[col], 75)\n",
        "    iqr = q75 - q25\n",
        "    # calculate the outlier cutoff\n",
        "    cut_off = iqr * 1.5\n",
        "    lower, upper = q25 - cut_off, q75 + cut_off\n",
        "    # identify outliers\n",
        "    outliers = ( ( df[col] < lower) | (df[col] > upper) )\n",
        "    index_label = df[outliers].index\n",
        "    print(f'Number of outliers in {col}: {len(index_label)}')\n",
        "# leave outliers as it provide useful insights"
      ],
      "metadata": {
        "colab": {
          "base_uri": "https://localhost:8080/"
        },
        "id": "TgCzyfOWKkkj",
        "outputId": "c71ea188-283d-4601-e2bc-fe0d8cd92036"
      },
      "execution_count": 200,
      "outputs": [
        {
          "output_type": "stream",
          "name": "stdout",
          "text": [
            "Number of outliers in actual_price: 5256\n",
            "Number of outliers in discount_price: 5682\n",
            "Number of outliers in no_of_ratings: 7220\n",
            "Number of outliers in ratings: 6144\n"
          ]
        }
      ]
    },
    {
      "cell_type": "code",
      "source": [
        "df.to_csv('cleaned_Amazon-Products.csv',index=False)"
      ],
      "metadata": {
        "id": "iXqyBxLfXWra"
      },
      "execution_count": 201,
      "outputs": []
    }
  ]
}